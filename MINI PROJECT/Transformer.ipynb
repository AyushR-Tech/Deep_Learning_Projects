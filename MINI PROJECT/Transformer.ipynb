{
  "nbformat": 4,
  "nbformat_minor": 0,
  "metadata": {
    "colab": {
      "provenance": [],
      "gpuType": "T4"
    },
    "kernelspec": {
      "name": "python3",
      "display_name": "Python 3"
    },
    "language_info": {
      "name": "python"
    },
    "accelerator": "GPU"
  },
  "cells": [
    {
      "cell_type": "code",
      "source": [
        "from google.colab import drive\n",
        "drive.mount('/content/drive')"
      ],
      "metadata": {
        "colab": {
          "base_uri": "https://localhost:8080/"
        },
        "id": "Bxs9YsORHP4S",
        "outputId": "237aab98-20c1-47a1-aebb-aaca0338bed4"
      },
      "execution_count": null,
      "outputs": [
        {
          "output_type": "stream",
          "name": "stdout",
          "text": [
            "Mounted at /content/drive\n"
          ]
        }
      ]
    },
    {
      "cell_type": "markdown",
      "source": [
        "# **Install and Import Packages**"
      ],
      "metadata": {
        "id": "hx-MB7G629ox"
      }
    },
    {
      "cell_type": "code",
      "execution_count": null,
      "metadata": {
        "id": "KYnNy7_uqH-6",
        "colab": {
          "base_uri": "https://localhost:8080/"
        },
        "outputId": "570bc0c7-ffc1-4abf-90af-83af27c3f047"
      },
      "outputs": [
        {
          "output_type": "stream",
          "name": "stdout",
          "text": [
            "Requirement already satisfied: pandas in /usr/local/lib/python3.11/dist-packages (2.2.2)\n",
            "Requirement already satisfied: numpy in /usr/local/lib/python3.11/dist-packages (2.0.2)\n",
            "Requirement already satisfied: nltk in /usr/local/lib/python3.11/dist-packages (3.9.1)\n",
            "Requirement already satisfied: tensorflow in /usr/local/lib/python3.11/dist-packages (2.18.0)\n",
            "Requirement already satisfied: matplotlib in /usr/local/lib/python3.11/dist-packages (3.10.0)\n",
            "Collecting rouge-score\n",
            "  Downloading rouge_score-0.1.2.tar.gz (17 kB)\n",
            "  Preparing metadata (setup.py) ... \u001b[?25l\u001b[?25hdone\n",
            "Requirement already satisfied: python-dateutil>=2.8.2 in /usr/local/lib/python3.11/dist-packages (from pandas) (2.9.0.post0)\n",
            "Requirement already satisfied: pytz>=2020.1 in /usr/local/lib/python3.11/dist-packages (from pandas) (2025.2)\n",
            "Requirement already satisfied: tzdata>=2022.7 in /usr/local/lib/python3.11/dist-packages (from pandas) (2025.2)\n",
            "Requirement already satisfied: click in /usr/local/lib/python3.11/dist-packages (from nltk) (8.1.8)\n",
            "Requirement already satisfied: joblib in /usr/local/lib/python3.11/dist-packages (from nltk) (1.4.2)\n",
            "Requirement already satisfied: regex>=2021.8.3 in /usr/local/lib/python3.11/dist-packages (from nltk) (2024.11.6)\n",
            "Requirement already satisfied: tqdm in /usr/local/lib/python3.11/dist-packages (from nltk) (4.67.1)\n",
            "Requirement already satisfied: absl-py>=1.0.0 in /usr/local/lib/python3.11/dist-packages (from tensorflow) (1.4.0)\n",
            "Requirement already satisfied: astunparse>=1.6.0 in /usr/local/lib/python3.11/dist-packages (from tensorflow) (1.6.3)\n",
            "Requirement already satisfied: flatbuffers>=24.3.25 in /usr/local/lib/python3.11/dist-packages (from tensorflow) (25.2.10)\n",
            "Requirement already satisfied: gast!=0.5.0,!=0.5.1,!=0.5.2,>=0.2.1 in /usr/local/lib/python3.11/dist-packages (from tensorflow) (0.6.0)\n",
            "Requirement already satisfied: google-pasta>=0.1.1 in /usr/local/lib/python3.11/dist-packages (from tensorflow) (0.2.0)\n",
            "Requirement already satisfied: libclang>=13.0.0 in /usr/local/lib/python3.11/dist-packages (from tensorflow) (18.1.1)\n",
            "Requirement already satisfied: opt-einsum>=2.3.2 in /usr/local/lib/python3.11/dist-packages (from tensorflow) (3.4.0)\n",
            "Requirement already satisfied: packaging in /usr/local/lib/python3.11/dist-packages (from tensorflow) (24.2)\n",
            "Requirement already satisfied: protobuf!=4.21.0,!=4.21.1,!=4.21.2,!=4.21.3,!=4.21.4,!=4.21.5,<6.0.0dev,>=3.20.3 in /usr/local/lib/python3.11/dist-packages (from tensorflow) (5.29.4)\n",
            "Requirement already satisfied: requests<3,>=2.21.0 in /usr/local/lib/python3.11/dist-packages (from tensorflow) (2.32.3)\n",
            "Requirement already satisfied: setuptools in /usr/local/lib/python3.11/dist-packages (from tensorflow) (75.2.0)\n",
            "Requirement already satisfied: six>=1.12.0 in /usr/local/lib/python3.11/dist-packages (from tensorflow) (1.17.0)\n",
            "Requirement already satisfied: termcolor>=1.1.0 in /usr/local/lib/python3.11/dist-packages (from tensorflow) (3.1.0)\n",
            "Requirement already satisfied: typing-extensions>=3.6.6 in /usr/local/lib/python3.11/dist-packages (from tensorflow) (4.13.2)\n",
            "Requirement already satisfied: wrapt>=1.11.0 in /usr/local/lib/python3.11/dist-packages (from tensorflow) (1.17.2)\n",
            "Requirement already satisfied: grpcio<2.0,>=1.24.3 in /usr/local/lib/python3.11/dist-packages (from tensorflow) (1.71.0)\n",
            "Requirement already satisfied: tensorboard<2.19,>=2.18 in /usr/local/lib/python3.11/dist-packages (from tensorflow) (2.18.0)\n",
            "Requirement already satisfied: keras>=3.5.0 in /usr/local/lib/python3.11/dist-packages (from tensorflow) (3.8.0)\n",
            "Requirement already satisfied: h5py>=3.11.0 in /usr/local/lib/python3.11/dist-packages (from tensorflow) (3.13.0)\n",
            "Requirement already satisfied: ml-dtypes<0.5.0,>=0.4.0 in /usr/local/lib/python3.11/dist-packages (from tensorflow) (0.4.1)\n",
            "Requirement already satisfied: tensorflow-io-gcs-filesystem>=0.23.1 in /usr/local/lib/python3.11/dist-packages (from tensorflow) (0.37.1)\n",
            "Requirement already satisfied: contourpy>=1.0.1 in /usr/local/lib/python3.11/dist-packages (from matplotlib) (1.3.2)\n",
            "Requirement already satisfied: cycler>=0.10 in /usr/local/lib/python3.11/dist-packages (from matplotlib) (0.12.1)\n",
            "Requirement already satisfied: fonttools>=4.22.0 in /usr/local/lib/python3.11/dist-packages (from matplotlib) (4.57.0)\n",
            "Requirement already satisfied: kiwisolver>=1.3.1 in /usr/local/lib/python3.11/dist-packages (from matplotlib) (1.4.8)\n",
            "Requirement already satisfied: pillow>=8 in /usr/local/lib/python3.11/dist-packages (from matplotlib) (11.2.1)\n",
            "Requirement already satisfied: pyparsing>=2.3.1 in /usr/local/lib/python3.11/dist-packages (from matplotlib) (3.2.3)\n",
            "Requirement already satisfied: wheel<1.0,>=0.23.0 in /usr/local/lib/python3.11/dist-packages (from astunparse>=1.6.0->tensorflow) (0.45.1)\n",
            "Requirement already satisfied: rich in /usr/local/lib/python3.11/dist-packages (from keras>=3.5.0->tensorflow) (13.9.4)\n",
            "Requirement already satisfied: namex in /usr/local/lib/python3.11/dist-packages (from keras>=3.5.0->tensorflow) (0.0.9)\n",
            "Requirement already satisfied: optree in /usr/local/lib/python3.11/dist-packages (from keras>=3.5.0->tensorflow) (0.15.0)\n",
            "Requirement already satisfied: charset-normalizer<4,>=2 in /usr/local/lib/python3.11/dist-packages (from requests<3,>=2.21.0->tensorflow) (3.4.1)\n",
            "Requirement already satisfied: idna<4,>=2.5 in /usr/local/lib/python3.11/dist-packages (from requests<3,>=2.21.0->tensorflow) (3.10)\n",
            "Requirement already satisfied: urllib3<3,>=1.21.1 in /usr/local/lib/python3.11/dist-packages (from requests<3,>=2.21.0->tensorflow) (2.4.0)\n",
            "Requirement already satisfied: certifi>=2017.4.17 in /usr/local/lib/python3.11/dist-packages (from requests<3,>=2.21.0->tensorflow) (2025.4.26)\n",
            "Requirement already satisfied: markdown>=2.6.8 in /usr/local/lib/python3.11/dist-packages (from tensorboard<2.19,>=2.18->tensorflow) (3.8)\n",
            "Requirement already satisfied: tensorboard-data-server<0.8.0,>=0.7.0 in /usr/local/lib/python3.11/dist-packages (from tensorboard<2.19,>=2.18->tensorflow) (0.7.2)\n",
            "Requirement already satisfied: werkzeug>=1.0.1 in /usr/local/lib/python3.11/dist-packages (from tensorboard<2.19,>=2.18->tensorflow) (3.1.3)\n",
            "Requirement already satisfied: MarkupSafe>=2.1.1 in /usr/local/lib/python3.11/dist-packages (from werkzeug>=1.0.1->tensorboard<2.19,>=2.18->tensorflow) (3.0.2)\n",
            "Requirement already satisfied: markdown-it-py>=2.2.0 in /usr/local/lib/python3.11/dist-packages (from rich->keras>=3.5.0->tensorflow) (3.0.0)\n",
            "Requirement already satisfied: pygments<3.0.0,>=2.13.0 in /usr/local/lib/python3.11/dist-packages (from rich->keras>=3.5.0->tensorflow) (2.19.1)\n",
            "Requirement already satisfied: mdurl~=0.1 in /usr/local/lib/python3.11/dist-packages (from markdown-it-py>=2.2.0->rich->keras>=3.5.0->tensorflow) (0.1.2)\n",
            "Building wheels for collected packages: rouge-score\n",
            "  Building wheel for rouge-score (setup.py) ... \u001b[?25l\u001b[?25hdone\n",
            "  Created wheel for rouge-score: filename=rouge_score-0.1.2-py3-none-any.whl size=24934 sha256=f42df58f811c2a8120ec245fc8397aeeb6d8f0b67b7f7ab6fefaa91c20378b72\n",
            "  Stored in directory: /root/.cache/pip/wheels/1e/19/43/8a442dc83660ca25e163e1bd1f89919284ab0d0c1475475148\n",
            "Successfully built rouge-score\n",
            "Installing collected packages: rouge-score\n",
            "Successfully installed rouge-score-0.1.2\n",
            "Eager execution enabled: True\n"
          ]
        },
        {
          "output_type": "stream",
          "name": "stderr",
          "text": [
            "[nltk_data] Downloading package punkt to /root/nltk_data...\n",
            "[nltk_data]   Unzipping tokenizers/punkt.zip.\n",
            "[nltk_data] Downloading package wordnet to /root/nltk_data...\n"
          ]
        },
        {
          "output_type": "execute_result",
          "data": {
            "text/plain": [
              "True"
            ]
          },
          "metadata": {},
          "execution_count": 2
        }
      ],
      "source": [
        "\n",
        "!pip install pandas numpy nltk tensorflow matplotlib rouge-score\n",
        "\n",
        "import numpy as np\n",
        "import pandas as pd\n",
        "import tensorflow as tf\n",
        "import nltk\n",
        "import time\n",
        "import math\n",
        "import matplotlib.pyplot as plt\n",
        "from tensorflow.keras.preprocessing.text import Tokenizer\n",
        "from tensorflow.keras.preprocessing.sequence import pad_sequences\n",
        "from nltk.translate.bleu_score import sentence_bleu\n",
        "from rouge_score import rouge_scorer\n",
        "from nltk.translate.meteor_score import meteor_score\n",
        "from nltk.tokenize import word_tokenize\n",
        "\n",
        "tf.config.run_functions_eagerly(True)\n",
        "print(\"Eager execution enabled:\", tf.executing_eagerly())\n",
        "\n",
        "nltk.download('punkt')\n",
        "nltk.download('wordnet')"
      ]
    },
    {
      "cell_type": "markdown",
      "source": [
        "# **Data Preparation**"
      ],
      "metadata": {
        "id": "GeuZO4DN3BGy"
      }
    },
    {
      "cell_type": "code",
      "source": [
        "\n",
        "df = pd.read_csv('/content/drive/MyDrive/DL_Dataset/questions.csv').dropna().head(10000)\n",
        "print(f\"Dataset size: {len(df)} rows\")\n",
        "questions1 = df['question1'].astype(str).tolist()\n",
        "questions2 = df['question2'].astype(str).tolist()\n",
        "\n",
        "questions2_with_tokens = ['<start> ' + q + ' <end>' for q in questions2]\n",
        "\n",
        "tokenizer = Tokenizer(oov_token=\"<OOV>\")\n",
        "tokenizer.fit_on_texts(questions1 + questions2_with_tokens)\n",
        "vocab_size = len(tokenizer.word_index) + 1\n",
        "print(f\"Vocabulary size: {vocab_size}\")\n",
        "\n",
        "start_token_idx = tokenizer.word_index.get('<start>', 0)\n",
        "end_token_idx = tokenizer.word_index.get('<end>', 0)\n",
        "print(f\"<start> token index: {start_token_idx}\")\n",
        "print(f\"<end> token index: {end_token_idx}\")\n",
        "\n",
        "index_word = {v: k for k, v in tokenizer.word_index.items()}\n",
        "\n",
        "max_len = 30\n",
        "\n",
        "encoder_input = pad_sequences(tokenizer.texts_to_sequences(questions1), maxlen=max_len, padding='post')\n",
        "decoder_input_raw = []\n",
        "decoder_target_raw = []\n",
        "for q in questions2_with_tokens:\n",
        "    words = q.split()\n",
        "    decoder_input_raw.append(' '.join(words[:-1]))\n",
        "    decoder_target_raw.append(' '.join(words[1:]))\n",
        "decoder_input = pad_sequences(tokenizer.texts_to_sequences(decoder_input_raw), maxlen=max_len, padding='post')\n",
        "decoder_target = pad_sequences(tokenizer.texts_to_sequences(decoder_target_raw), maxlen=max_len, padding='post')\n",
        "\n",
        "print(\"Encoder input shape:\", encoder_input.shape)\n",
        "print(\"Decoder input shape:\", decoder_input.shape)\n",
        "print(\"Decoder target shape:\", decoder_target.shape)"
      ],
      "metadata": {
        "id": "QqGQZQazqUZF",
        "colab": {
          "base_uri": "https://localhost:8080/"
        },
        "outputId": "53fa7a02-3646-4542-a82e-c7bae2b3dfda"
      },
      "execution_count": null,
      "outputs": [
        {
          "output_type": "stream",
          "name": "stdout",
          "text": [
            "Dataset size: 10000 rows\n",
            "Vocabulary size: 15582\n",
            "<start> token index: 0\n",
            "<end> token index: 0\n",
            "Encoder input shape: (10000, 30)\n",
            "Decoder input shape: (10000, 30)\n",
            "Decoder target shape: (10000, 30)\n"
          ]
        }
      ]
    },
    {
      "cell_type": "markdown",
      "source": [
        "# **Transformer Model**"
      ],
      "metadata": {
        "id": "gRaVCkCY3Inh"
      }
    },
    {
      "cell_type": "code",
      "source": [
        "\n",
        "def positional_encoding(position, d_model):\n",
        "    angle_rads = get_angles(\n",
        "        np.arange(position)[:, np.newaxis],\n",
        "        np.arange(d_model)[np.newaxis, :],\n",
        "        d_model\n",
        "    )\n",
        "    angle_rads[:, 0::2] = np.sin(angle_rads[:, 0::2])\n",
        "    angle_rads[:, 1::2] = np.cos(angle_rads[:, 1::2])\n",
        "    pos_encoding = angle_rads[np.newaxis, ...]\n",
        "    return tf.cast(pos_encoding, dtype=tf.float32)\n",
        "\n",
        "def get_angles(pos, i, d_model):\n",
        "    angle_rates = 1 / np.power(10000, (2 * (i // 2)) / np.float32(d_model))\n",
        "    return pos * angle_rates\n",
        "\n",
        "def scaled_dot_product_attention(q, k, v, mask=None):\n",
        "    matmul_qk = tf.matmul(q, k, transpose_b=True)\n",
        "    dk = tf.cast(tf.shape(k)[-1], tf.float32)\n",
        "    scaled_attention_logits = matmul_qk / tf.math.sqrt(dk)\n",
        "    if mask is not None:\n",
        "        scaled_attention_logits += (mask * -1e9)\n",
        "    attention_weights = tf.nn.softmax(scaled_attention_logits, axis=-1)\n",
        "    output = tf.matmul(attention_weights, v)\n",
        "    return output, attention_weights\n",
        "\n",
        "class MultiHeadAttention(tf.keras.layers.Layer):\n",
        "    def __init__(self, d_model, num_heads):\n",
        "        super(MultiHeadAttention, self).__init__()\n",
        "        self.num_heads = num_heads\n",
        "        self.d_model = d_model\n",
        "        assert d_model % self.num_heads == 0\n",
        "        self.depth = d_model // self.num_heads\n",
        "        self.wq = tf.keras.layers.Dense(d_model)\n",
        "        self.wk = tf.keras.layers.Dense(d_model)\n",
        "        self.wv = tf.keras.layers.Dense(d_model)\n",
        "        self.dense = tf.keras.layers.Dense(d_model)\n",
        "\n",
        "    def split_heads(self, x, batch_size):\n",
        "        x = tf.reshape(x, (batch_size, -1, self.num_heads, self.depth))\n",
        "        return tf.transpose(x, perm=[0, 2, 1, 3])\n",
        "\n",
        "    def call(self, v, k, q, mask=None):\n",
        "        batch_size = tf.shape(q)[0]\n",
        "        q = self.wq(q)\n",
        "        k = self.wk(k)\n",
        "        v = self.wv(v)\n",
        "        q = self.split_heads(q, batch_size)\n",
        "        k = self.split_heads(k, batch_size)\n",
        "        v = self.split_heads(v, batch_size)\n",
        "        scaled_attention, attention_weights = scaled_dot_product_attention(q, k, v, mask=mask)\n",
        "        scaled_attention = tf.transpose(scaled_attention, perm=[0, 2, 1, 3])\n",
        "        concat_attention = tf.reshape(scaled_attention, (batch_size, -1, self.d_model))\n",
        "        output = self.dense(concat_attention)\n",
        "        return output, attention_weights\n",
        "\n",
        "def point_wise_feed_forward_network(d_model, dff):\n",
        "    return tf.keras.Sequential([\n",
        "        tf.keras.layers.Dense(dff, activation='relu'),\n",
        "        tf.keras.layers.Dense(d_model)\n",
        "    ])\n",
        "\n",
        "class EncoderLayer(tf.keras.layers.Layer):\n",
        "    def __init__(self, d_model, num_heads, dff, rate=0.1):\n",
        "        super(EncoderLayer, self).__init__()\n",
        "        self.mha = MultiHeadAttention(d_model, num_heads)\n",
        "        self.ffn = point_wise_feed_forward_network(d_model, dff)\n",
        "        self.layernorm1 = tf.keras.layers.LayerNormalization(epsilon=1e-6)\n",
        "        self.layernorm2 = tf.keras.layers.LayerNormalization(epsilon=1e-6)\n",
        "        self.dropout1 = tf.keras.layers.Dropout(rate)\n",
        "        self.dropout2 = tf.keras.layers.Dropout(rate)\n",
        "    def call(self, x, training=True, mask=None):\n",
        "        attn_output, _ = self.mha(x, x, x, mask=mask)\n",
        "        attn_output = self.dropout1(attn_output, training=training)\n",
        "        out1 = self.layernorm1(x + attn_output)\n",
        "        ffn_output = self.ffn(out1)\n",
        "        ffn_output = self.dropout2(ffn_output, training=training)\n",
        "        out2 = self.layernorm2(out1 + ffn_output)\n",
        "        return out2\n",
        "\n",
        "class DecoderLayer(tf.keras.layers.Layer):\n",
        "    def __init__(self, d_model, num_heads, dff, rate=0.1):\n",
        "        super(DecoderLayer, self).__init__()\n",
        "        self.mha1 = MultiHeadAttention(d_model, num_heads)\n",
        "        self.mha2 = MultiHeadAttention(d_model, num_heads)\n",
        "        self.ffn = point_wise_feed_forward_network(d_model, dff)\n",
        "        self.layernorm1 = tf.keras.layers.LayerNormalization(epsilon=1e-6)\n",
        "        self.layernorm2 = tf.keras.layers.LayerNormalization(epsilon=1e-6)\n",
        "        self.layernorm3 = tf.keras.layers.LayerNormalization(epsilon=1e-6)\n",
        "        self.dropout1 = tf.keras.layers.Dropout(rate)\n",
        "        self.dropout2 = tf.keras.layers.Dropout(rate)\n",
        "        self.dropout3 = tf.keras.layers.Dropout(rate)\n",
        "    def call(self, x, enc_output, training=True, look_ahead_mask=None, padding_mask=None):\n",
        "        attn1, _ = self.mha1(x, x, x, mask=look_ahead_mask)\n",
        "        attn1 = self.dropout1(attn1, training=training)\n",
        "        out1 = self.layernorm1(attn1 + x)\n",
        "        attn2, _ = self.mha2(enc_output, enc_output, out1, mask=padding_mask)\n",
        "        attn2 = self.dropout2(attn2, training=training)\n",
        "        out2 = self.layernorm2(attn2 + out1)\n",
        "        ffn_output = self.ffn(out2)\n",
        "        ffn_output = self.dropout3(ffn_output, training=training)\n",
        "        out3 = self.layernorm3(ffn_output + out2)\n",
        "        return out3\n",
        "\n",
        "class Encoder(tf.keras.layers.Layer):\n",
        "    def __init__(self, vocab_size, num_layers, d_model, num_heads, dff, maximum_position_encoding, rate=0.1):\n",
        "        super(Encoder, self).__init__()\n",
        "        self.d_model = d_model\n",
        "        self.num_layers = num_layers\n",
        "        self.embedding = tf.keras.layers.Embedding(vocab_size, d_model)\n",
        "        self.pos_encoding = positional_encoding(maximum_position_encoding, d_model)\n",
        "        self.enc_layers = [EncoderLayer(d_model, num_heads, dff, rate) for _ in range(num_layers)]\n",
        "        self.dropout = tf.keras.layers.Dropout(rate)\n",
        "    def call(self, x, training=True, mask=None):\n",
        "        seq_len = tf.shape(x)[1]\n",
        "        x = self.embedding(x)\n",
        "        x *= tf.math.sqrt(tf.cast(self.d_model, tf.float32))\n",
        "        x += self.pos_encoding[:, :seq_len, :]\n",
        "        x = self.dropout(x, training=training)\n",
        "        for i in range(self.num_layers):\n",
        "            x = self.enc_layers[i](x, training=training, mask=mask)\n",
        "        return x\n",
        "\n",
        "class Decoder(tf.keras.layers.Layer):\n",
        "    def __init__(self, vocab_size, num_layers, d_model, num_heads, dff, maximum_position_encoding, rate=0.1):\n",
        "        super(Decoder, self).__init__()\n",
        "        self.d_model = d_model\n",
        "        self.num_layers = num_layers\n",
        "        self.embedding = tf.keras.layers.Embedding(vocab_size, d_model)\n",
        "        self.pos_encoding = positional_encoding(maximum_position_encoding, d_model)\n",
        "        self.dec_layers = [DecoderLayer(d_model, num_heads, dff, rate) for _ in range(num_layers)]\n",
        "        self.dropout = tf.keras.layers.Dropout(rate)\n",
        "    def call(self, x, enc_output, training=True, look_ahead_mask=None, padding_mask=None):\n",
        "        seq_len = tf.shape(x)[1]\n",
        "        x = self.embedding(x)\n",
        "        x *= tf.math.sqrt(tf.cast(self.d_model, tf.float32))\n",
        "        x += self.pos_encoding[:, :seq_len, :]\n",
        "        x = self.dropout(x, training=training)\n",
        "        for i in range(self.num_layers):\n",
        "            x = self.dec_layers[i](\n",
        "                x, enc_output, training=training, look_ahead_mask=look_ahead_mask, padding_mask=padding_mask)\n",
        "        return x\n",
        "\n",
        "class Transformer(tf.keras.Model):\n",
        "    def __init__(self, vocab_size, num_layers, d_model, num_heads, dff, pe_input, pe_target, rate=0.1):\n",
        "        super(Transformer, self).__init__()\n",
        "        self.encoder = Encoder(vocab_size, num_layers, d_model, num_heads, dff, pe_input, rate)\n",
        "        self.decoder = Decoder(vocab_size, num_layers, d_model, num_heads, dff, pe_target, rate)\n",
        "        self.final_layer = tf.keras.layers.Dense(vocab_size)\n",
        "    def call(self, inputs, training=True):\n",
        "        encoder_input, decoder_input = inputs\n",
        "        enc_padding_mask = self.create_padding_mask(encoder_input)\n",
        "        dec_padding_mask = self.create_padding_mask(encoder_input)\n",
        "        look_ahead_mask = self.create_look_ahead_mask(tf.shape(decoder_input)[1])\n",
        "        dec_target_padding_mask = self.create_padding_mask(decoder_input)\n",
        "        combined_mask = tf.maximum(dec_target_padding_mask, look_ahead_mask)\n",
        "        enc_output = self.encoder(encoder_input, training=training, mask=enc_padding_mask)\n",
        "        dec_output = self.decoder(\n",
        "            decoder_input, enc_output, training=training, look_ahead_mask=combined_mask, padding_mask=dec_padding_mask)\n",
        "        final_output = self.final_layer(dec_output)\n",
        "        return final_output\n",
        "    def create_padding_mask(self, seq):\n",
        "        seq = tf.cast(tf.math.equal(seq, 0), tf.float32)\n",
        "        return seq[:, tf.newaxis, tf.newaxis, :]\n",
        "    def create_look_ahead_mask(self, size):\n",
        "        mask = 1 - tf.linalg.band_part(tf.ones((size, size)), -1, 0)\n",
        "        return mask\n",
        "\n",
        "# Hyperparameters\n",
        "num_layers = 2\n",
        "d_model = 64\n",
        "num_heads = 4\n",
        "dff = 256\n",
        "dropout_rate = 0.1\n",
        "\n",
        "transformer = Transformer(\n",
        "    vocab_size=vocab_size,\n",
        "    num_layers=num_layers,\n",
        "    d_model=d_model,\n",
        "    num_heads=num_heads,\n",
        "    dff=dff,\n",
        "    pe_input=max_len,\n",
        "    pe_target=max_len,\n",
        "    rate=dropout_rate\n",
        ")\n",
        "\n",
        "class CustomSchedule(tf.keras.optimizers.schedules.LearningRateSchedule):\n",
        "    def __init__(self, d_model, warmup_steps=2000):\n",
        "        super(CustomSchedule, self).__init__()\n",
        "        self.d_model = tf.cast(d_model, tf.float32)\n",
        "        self.warmup_steps = warmup_steps\n",
        "    def __call__(self, step):\n",
        "        step = tf.cast(step, tf.float32)\n",
        "        arg1 = tf.math.rsqrt(step)\n",
        "        arg2 = step * (self.warmup_steps ** -1.5)\n",
        "        return tf.math.rsqrt(self.d_model) * tf.math.minimum(arg1, arg2)\n",
        "\n",
        "def loss_function(real, pred):\n",
        "    mask = tf.math.logical_not(tf.math.equal(real, 0))\n",
        "    loss_object = tf.keras.losses.SparseCategoricalCrossentropy(from_logits=True, reduction='none')\n",
        "    loss = loss_object(real, pred)\n",
        "    mask = tf.cast(mask, dtype=loss.dtype)\n",
        "    loss *= mask\n",
        "    return tf.reduce_sum(loss)/tf.reduce_sum(mask)\n",
        "\n",
        "learning_rate = CustomSchedule(d_model)\n",
        "optimizer = tf.keras.optimizers.Adam(learning_rate, beta_1=0.9, beta_2=0.98, epsilon=1e-9)\n",
        "\n",
        "train_loss = tf.keras.metrics.Mean(name='train_loss')\n",
        "train_accuracy = tf.keras.metrics.SparseCategoricalAccuracy(name='train_accuracy')\n",
        "\n",
        "checkpoint_path = \"./checkpoints/train\"\n",
        "ckpt = tf.train.Checkpoint(transformer=transformer, optimizer=optimizer)\n",
        "ckpt_manager = tf.train.CheckpointManager(ckpt, checkpoint_path, max_to_keep=3)\n",
        "\n",
        "@tf.function\n",
        "def train_step(enc_input, dec_input, dec_target):\n",
        "    with tf.GradientTape() as tape:\n",
        "        predictions = transformer([enc_input, dec_input], training=True)\n",
        "        loss = loss_function(dec_target, predictions)\n",
        "    gradients = tape.gradient(loss, transformer.trainable_variables)\n",
        "    optimizer.apply_gradients(zip(gradients, transformer.trainable_variables))\n",
        "    train_loss(loss)\n",
        "    train_accuracy(dec_target, predictions)"
      ],
      "metadata": {
        "id": "QWU6_0BTqUVt"
      },
      "execution_count": null,
      "outputs": []
    },
    {
      "cell_type": "markdown",
      "source": [
        "# **Training**"
      ],
      "metadata": {
        "id": "qJXB-uyi3PzK"
      }
    },
    {
      "cell_type": "code",
      "source": [
        "\n",
        "BATCH_SIZE = 32\n",
        "BUFFER_SIZE = 10000\n",
        "train_dataset = tf.data.Dataset.from_tensor_slices((encoder_input, decoder_input, decoder_target)).shuffle(BUFFER_SIZE).batch(BATCH_SIZE)\n",
        "EPOCHS = 5\n",
        "\n",
        "print(\"Starting training...\")\n",
        "start_train = time.time()\n",
        "loss_history = []\n",
        "accuracy_history = []\n",
        "\n",
        "for epoch in range(EPOCHS):\n",
        "    start = time.time()\n",
        "    try:\n",
        "        train_loss.reset_states()\n",
        "        train_accuracy.reset_states()\n",
        "    except AttributeError:\n",
        "        train_loss.reset_state()\n",
        "        train_accuracy.reset_state()\n",
        "    for (batch, (enc_input, dec_input, dec_target)) in enumerate(train_dataset):\n",
        "        train_step(enc_input, dec_input, dec_target)\n",
        "    loss_history.append(train_loss.result().numpy())\n",
        "    accuracy_history.append(train_accuracy.result().numpy())\n",
        "    print(f'Epoch {epoch + 1} Loss {train_loss.result():.4f} Accuracy {train_accuracy.result():.4f}')\n",
        "    print(f'Time taken for 1 epoch: {time.time() - start:.2f} secs\\n')\n",
        "\n",
        "end_train = time.time()\n",
        "print(f\"Training Time: {end_train - start_train:.2f} seconds\")\n",
        "\n",
        "transformer.save_weights('transformer_model_weights.weights.h5')\n",
        "print(\"Model weights saved to 'transformer_model_weights.weights.h5'\")"
      ],
      "metadata": {
        "id": "65A0qGaTqUTe",
        "colab": {
          "base_uri": "https://localhost:8080/"
        },
        "outputId": "5a6654c2-b490-42b8-af38-941474bea3e7"
      },
      "execution_count": null,
      "outputs": [
        {
          "output_type": "stream",
          "name": "stdout",
          "text": [
            "Starting training...\n",
            "Epoch 1 Loss 8.3117 Accuracy 0.0289\n",
            "Time taken for 1 epoch: 235.98 secs\n",
            "\n",
            "Epoch 2 Loss 6.0072 Accuracy 0.0649\n",
            "Time taken for 1 epoch: 261.91 secs\n",
            "\n",
            "Epoch 3 Loss 5.2574 Accuracy 0.0944\n",
            "Time taken for 1 epoch: 220.67 secs\n",
            "\n",
            "Epoch 4 Loss 4.7872 Accuracy 0.1112\n",
            "Time taken for 1 epoch: 222.70 secs\n",
            "\n",
            "Epoch 5 Loss 4.4029 Accuracy 0.1245\n",
            "Time taken for 1 epoch: 222.27 secs\n",
            "\n",
            "Training Time: 1163.53 seconds\n",
            "Model weights saved to 'transformer_model_weights.weights.h5'\n"
          ]
        }
      ]
    },
    {
      "cell_type": "code",
      "source": [
        "def plot_training_curve(loss_history, accuracy_history):\n",
        "    epochs = range(1, len(loss_history) + 1)\n",
        "    plt.figure(figsize=(12, 6))\n",
        "    plt.subplot(1, 2, 1)\n",
        "    plt.plot(epochs, loss_history, label='Loss')\n",
        "    plt.title('Training Loss')\n",
        "    plt.xlabel('Epochs')\n",
        "    plt.ylabel('Loss')\n",
        "    plt.legend()\n",
        "    plt.subplot(1, 2, 2)\n",
        "    plt.plot(epochs, accuracy_history, label='Accuracy')\n",
        "    plt.title('Training Accuracy')\n",
        "    plt.xlabel('Epochs')\n",
        "    plt.ylabel('Accuracy')\n",
        "    plt.legend()\n",
        "    plt.show()\n",
        "\n",
        "plot_training_curve(loss_history, accuracy_history)"
      ],
      "metadata": {
        "id": "dATwNL10qURP",
        "colab": {
          "base_uri": "https://localhost:8080/",
          "height": 438
        },
        "outputId": "cc81a3fa-138c-4aab-bccf-69c800bb97cc"
      },
      "execution_count": null,
      "outputs": [
        {
          "output_type": "display_data",
          "data": {
            "text/plain": [
              "<Figure size 1200x600 with 2 Axes>"
            ],
            "image/png": "[encoded data removed]"
          },
          "metadata": {}
        }
      ]
    },
    {
      "cell_type": "markdown",
      "source": [
        "# **Evaluation**"
      ],
      "metadata": {
        "id": "mlsUf0Gs3WJl"
      }
    },
    {
      "cell_type": "code",
      "source": [
        "\n",
        "def generate_response_transformer(input_text, max_length=30, temperature=0.7):\n",
        "    input_seq = tokenizer.texts_to_sequences([input_text])\n",
        "    input_seq = pad_sequences(input_seq, maxlen=max_len, padding='post')\n",
        "    decoder_seq = np.zeros((1, max_len))\n",
        "    decoder_seq[0, 0] = start_token_idx\n",
        "    output_text = \"\"\n",
        "    for i in range(1, max_length):\n",
        "        predictions = transformer([input_seq, decoder_seq[:, :i]], training=False)\n",
        "        predictions = predictions[:, i-1, :]\n",
        "        predictions = predictions / temperature\n",
        "        predicted_id = tf.random.categorical(predictions, num_samples=1)[0, 0].numpy()\n",
        "        if predicted_id == end_token_idx or len(output_text.split()) >= max_length-1:\n",
        "            break\n",
        "        predicted_word = index_word.get(predicted_id, \"\")\n",
        "        if predicted_word:\n",
        "            output_text += predicted_word + \" \"\n",
        "        decoder_seq[0, i] = predicted_id\n",
        "    return output_text.strip()\n",
        "\n",
        "refs, hyps = [], []\n",
        "print(\"\\nGenerating example predictions:\")\n",
        "test_indices = np.random.randint(0, len(questions1), 3)\n",
        "for i in test_indices:\n",
        "    print('-')\n",
        "    print('Input:', questions1[i])\n",
        "    print('Actual:', questions2[i])\n",
        "    pred = generate_response_transformer(questions1[i])\n",
        "    print('Predicted:', pred)\n",
        "    refs.append([questions2[i]])\n",
        "    hyps.append(pred)\n",
        "\n",
        "for i in range(min(10, len(questions1))):\n",
        "    q1 = questions1[i]\n",
        "    q2 = questions2[i]\n",
        "    hyp = generate_response_transformer(q1)\n",
        "    refs.append([q2])\n",
        "    hyps.append(hyp)\n",
        "    print(f\"\\nQ1: {q1}\")\n",
        "    print(f\"Original Q2: {q2}\")\n",
        "    print(f\"Generated  : {hyp}\")\n",
        "\n",
        "bleu_scores = [\n",
        "    sentence_bleu([word_tokenize(ref[0].lower())], word_tokenize(hyp.lower()))\n",
        "    for ref, hyp in zip(refs, hyps)\n",
        "]\n",
        "print(f\"\\nAverage BLEU: {np.mean(bleu_scores):.4f}\")\n",
        "\n",
        "rouge = rouge_scorer.RougeScorer(['rouge1', 'rougeL'], use_stemmer=True)\n",
        "rouge_scores = [rouge.score(ref[0], hyp) for ref, hyp in zip(refs, hyps)]\n",
        "avg_rouge1 = np.mean([s['rouge1'].fmeasure for s in rouge_scores])\n",
        "print(f\"Average ROUGE-1 F1: {avg_rouge1:.4f}\")\n",
        "\n",
        "meteor_scores = [\n",
        "    meteor_score([word_tokenize(ref[0].lower())], word_tokenize(hyp.lower()))\n",
        "    for ref, hyp in zip(refs, hyps)\n",
        "]\n",
        "print(f\"Average METEOR: {np.mean(meteor_scores):.4f}\")\n",
        "\n",
        "start_infer = time.time()\n",
        "_ = generate_response_transformer(\"What is your name?\")\n",
        "end_infer = time.time()\n",
        "print(f\"\\nInference Time: {end_infer - start_infer:.4f} seconds\")"
      ],
      "metadata": {
        "id": "A_2JEiD4qUO5",
        "colab": {
          "base_uri": "https://localhost:8080/"
        },
        "outputId": "dee04187-663b-4a65-9fae-96bab7a40853"
      },
      "execution_count": null,
      "outputs": [
        {
          "output_type": "stream",
          "name": "stdout",
          "text": [
            "\n",
            "Generating example predictions:\n",
            "-\n",
            "Input: How do covert narcissists abuse their partners?\n",
            "Actual: What are some tips for negotiating with a covert narcissist?\n",
            "Predicted: what are some ways to deal on snapchat end out of lymph spin end off end end end and how do i don't know end end in our mind\n",
            "-\n",
            "Input: What is the significance of the size of the address bus and the data bus in the processors? How is the type of the processors is defined like 8-bit, 16-bit processors, etc\n",
            "Actual: What is a 128-bit processor?\n",
            "Predicted: of the bio and aspire and eponine without a website end in my way end and other than the internet end of them end in this end of consent\n",
            "-\n",
            "Input: People needs rikshaw stands. Aren't you having trouble due to them?\n",
            "Actual: I want to move to IT but I don’t know programming nor do I want to do programming. Are there any other career paths?\n",
            "Predicted: makes a girl ever ever been more than extraterrestrial life end or not end what should i do end and want to use end end end end end end\n",
            "\n",
            "Q1: What is the step by step guide to invest in share market in india?\n",
            "Original Q2: What is the step by step guide to invest in share market?\n",
            "Generated  : and what is the difference between new grads from what are they are they should i need to navy side and cons of the battle of the world end\n",
            "\n",
            "Q1: What is the story of Kohinoor (Koh-i-Noor) Diamond?\n",
            "Original Q2: What would happen if the Indian government stole the Kohinoor (Koh-i-Noor) diamond back?\n",
            "Generated  : of the difference between india and cons of cinema inflicted on the eu don't need to reduce the same and relative to use if that end end of me\n",
            "\n",
            "Q1: How can I increase the speed of my internet connection while using a VPN?\n",
            "Original Q2: How can Internet speed be increased by hacking through DNS?\n",
            "Generated  : in the way to control between a boyfriend like my iphone end of 1 frac money end of the kapil of the jake way to get a force end\n",
            "\n",
            "Q1: Why am I mentally very lonely? How can I solve it?\n",
            "Original Q2: Find the remainder when [math]23^{24}[/math] is divided by 24,23?\n",
            "Generated  : or my period is polymer number end after biotechnology end how can i get an cameras or not end end and find it end end end end end end\n",
            "\n",
            "Q1: Which one dissolve in water quikly sugar, salt, methane and carbon di oxide?\n",
            "Original Q2: Which fish would survive in salt water?\n",
            "Generated  : was bose taffy candy imported in bangalore end what is this differ end of skills end end end end end end end end end end end end end end\n",
            "\n",
            "Q1: Astrology: I am a Capricorn Sun Cap moon and cap rising...what does that say about me?\n",
            "Original Q2: I'm a triple Capricorn (Sun, Moon and ascendant in Capricorn) What does this say about me?\n",
            "Generated  : what would be done to be no ever just e depression end and why end up by a cop end back end end end with this end end end\n",
            "\n",
            "Q1: Should I buy tiago?\n",
            "Original Q2: What keeps childern active and far from phone and video games?\n",
            "Generated  : is good for mind end or learning end end at distracted end for iit end end end end level end end effective end end thousand android company end at\n",
            "\n",
            "Q1: How can I be a good geologist?\n",
            "Original Q2: What should I do to be a great geologist?\n",
            "Generated  : of the most distance girl ever become a kid end and how do i be a good job end of the safe end of a hard end and end\n",
            "\n",
            "Q1: When do you use シ instead of し?\n",
            "Original Q2: When do you use \"&\" instead of \"and\"?\n",
            "Generated  : what do you think of your introduction of 1990 end of python end in life end end end e end end end end end end in life end end\n",
            "\n",
            "Q1: Motorola (company): Can I hack my Charter Motorolla DCX3400?\n",
            "Original Q2: How do I hack Motorola DCX3400 for free internet?\n",
            "Generated  : and want can i learn back to make another tier scotia's model on youtube end with this end in python now end of information end end and restaurants end\n",
            "\n",
            "Average BLEU: 0.0000\n",
            "Average ROUGE-1 F1: 0.1105\n",
            "Average METEOR: 0.0971\n",
            "\n",
            "Inference Time: 2.6038 seconds\n"
          ]
        }
      ]
    },
    {
      "cell_type": "code",
      "source": [
        "import nltk\n",
        "from nltk.translate.bleu_score import sentence_bleu\n",
        "from rouge_score import rouge_scorer\n",
        "from nltk.translate.meteor_score import meteor_score\n",
        "from nltk.tokenize import word_tokenize\n",
        "# ... (rest of your code) ...\n",
        "\n",
        "# Download punkt_tab\n",
        "nltk.download('punkt_tab')\n",
        "\n",
        "# ... (rest of your code) ...\n",
        "bleu_scores = [\n",
        "    sentence_bleu([word_tokenize(ref[0].lower())], word_tokenize(hyp.lower()))\n",
        "    for ref, hyp in zip(refs, hyps)\n",
        "]\n",
        "# ... (rest of your code) ..."
      ],
      "metadata": {
        "colab": {
          "base_uri": "https://localhost:8080/"
        },
        "id": "OL0ExqgycO14",
        "outputId": "d4a18146-6148-40ce-89aa-a947d97212f2"
      },
      "execution_count": null,
      "outputs": [
        {
          "output_type": "stream",
          "name": "stderr",
          "text": [
            "[nltk_data] Downloading package punkt_tab to /root/nltk_data...\n",
            "[nltk_data]   Unzipping tokenizers/punkt_tab.zip.\n",
            "/usr/local/lib/python3.11/dist-packages/nltk/translate/bleu_score.py:577: UserWarning: \n",
            "The hypothesis contains 0 counts of 2-gram overlaps.\n",
            "Therefore the BLEU score evaluates to 0, independently of\n",
            "how many N-gram overlaps of lower order it contains.\n",
            "Consider using lower n-gram order or use SmoothingFunction()\n",
            "  warnings.warn(_msg)\n",
            "/usr/local/lib/python3.11/dist-packages/nltk/translate/bleu_score.py:577: UserWarning: \n",
            "The hypothesis contains 0 counts of 3-gram overlaps.\n",
            "Therefore the BLEU score evaluates to 0, independently of\n",
            "how many N-gram overlaps of lower order it contains.\n",
            "Consider using lower n-gram order or use SmoothingFunction()\n",
            "  warnings.warn(_msg)\n",
            "/usr/local/lib/python3.11/dist-packages/nltk/translate/bleu_score.py:577: UserWarning: \n",
            "The hypothesis contains 0 counts of 4-gram overlaps.\n",
            "Therefore the BLEU score evaluates to 0, independently of\n",
            "how many N-gram overlaps of lower order it contains.\n",
            "Consider using lower n-gram order or use SmoothingFunction()\n",
            "  warnings.warn(_msg)\n"
          ]
        }
      ]
    },
    {
      "cell_type": "markdown",
      "source": [
        "# **Attention Map Visualization**"
      ],
      "metadata": {
        "id": "guDURunv3c0D"
      }
    },
    {
      "cell_type": "code",
      "source": [
        "def plot_attention_weights(input_sentence, result, attention_weights):\n",
        "    # Assuming attention_weights is a list of attention matrices for each head\n",
        "    fig = plt.figure(figsize=(16, 8))\n",
        "    input_tokens = input_sentence.split()\n",
        "    output_tokens = result.split()\n",
        "\n",
        "    # Check if attention_weights is valid and contains data\n",
        "    if attention_weights is None or not isinstance(attention_weights, (list, tuple)):\n",
        "        print(\"Attention weights are not available or in the expected format.\")\n",
        "        return  # or raise an exception\n",
        "\n",
        "    for head in range(min(num_heads, len(attention_weights))):  # Ensure we don't exceed available heads\n",
        "        ax = fig.add_subplot(2, num_heads // 2, head + 1)\n",
        "\n",
        "        # Check if attention weights for this head are valid\n",
        "        if isinstance(attention_weights[head], tf.Tensor):\n",
        "            attention = attention_weights[head].numpy()\n",
        "        else:\n",
        "            print(f\"Attention weights for head {head + 1} are not a TensorFlow tensor.\")\n",
        "            continue  # Skip to the next head\n",
        "\n",
        "        ax.matshow(attention, cmap='viridis')\n",
        "        ax.set_xticks(range(len(input_tokens)))\n",
        "        ax.set_yticks(range(len(output_tokens)))\n",
        "        ax.set_xticklabels(input_tokens, rotation=90)\n",
        "        ax.set_yticklabels(output_tokens)\n",
        "        ax.set_title(f'Head {head + 1}')\n",
        "    plt.tight_layout()\n",
        "    plt.show()\n",
        "\n",
        "# Example usage:\n",
        "example_input = questions1[0]\n",
        "example_output = generate_response_transformer(example_input)\n",
        "example_attention_weights = ... # get from your model during inference\n",
        "plot_attention_weights(example_input, example_output, example_attention_weights)"
      ],
      "metadata": {
        "id": "cx7Kc_aqqUMp",
        "colab": {
          "base_uri": "https://localhost:8080/",
          "height": 53
        },
        "outputId": "3447c179-2618-4782-ba5b-08613190c112"
      },
      "execution_count": null,
      "outputs": [
        {
          "output_type": "stream",
          "name": "stdout",
          "text": [
            "Attention weights are not available or in the expected format.\n"
          ]
        },
        {
          "output_type": "display_data",
          "data": {
            "text/plain": [
              "<Figure size 1600x800 with 0 Axes>"
            ]
          },
          "metadata": {}
        }
      ]
    }
  ]
}