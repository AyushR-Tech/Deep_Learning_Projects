{
  "nbformat": 4,
  "nbformat_minor": 0,
  "metadata": {
    "colab": {
      "provenance": [],
      "gpuType": "T4"
    },
    "kernelspec": {
      "name": "python3",
      "display_name": "Python 3"
    },
    "language_info": {
      "name": "python"
    },
    "accelerator": "GPU"
  },
  "cells": [
    {
      "cell_type": "markdown",
      "source": [
        "## **Install and Import Libraries**"
      ],
      "metadata": {
        "id": "kaDXiBdb1jZr"
      }
    },
    {
      "cell_type": "code",
      "source": [
        "from google.colab import drive\n",
        "drive.mount('/content/drive')"
      ],
      "metadata": {
        "colab": {
          "base_uri": "https://localhost:8080/"
        },
        "id": "lKe-a_n8HFSo",
        "outputId": "e802b34c-9a99-4bee-85de-ec8f6391658e"
      },
      "execution_count": null,
      "outputs": [
        {
          "output_type": "stream",
          "name": "stdout",
          "text": [
            "Mounted at /content/drive\n"
          ]
        }
      ]
    },
    {
      "cell_type": "code",
      "execution_count": null,
      "metadata": {
        "colab": {
          "base_uri": "https://localhost:8080/"
        },
        "id": "FxcGr4-PnZQQ",
        "outputId": "dda3bc42-f44a-48c5-ca9f-7e7ec68fdfa9"
      },
      "outputs": [
        {
          "output_type": "stream",
          "name": "stdout",
          "text": [
            "Requirement already satisfied: pandas in /usr/local/lib/python3.11/dist-packages (2.2.2)\n",
            "Requirement already satisfied: numpy in /usr/local/lib/python3.11/dist-packages (2.0.2)\n",
            "Requirement already satisfied: nltk in /usr/local/lib/python3.11/dist-packages (3.9.1)\n",
            "Requirement already satisfied: tensorflow in /usr/local/lib/python3.11/dist-packages (2.18.0)\n",
            "Requirement already satisfied: matplotlib in /usr/local/lib/python3.11/dist-packages (3.10.0)\n",
            "Collecting rouge-score\n",
            "  Downloading rouge_score-0.1.2.tar.gz (17 kB)\n",
            "  Preparing metadata (setup.py) ... \u001b[?25l\u001b[?25hdone\n",
            "Collecting pycocoevalcap\n",
            "  Downloading pycocoevalcap-1.2-py3-none-any.whl.metadata (3.2 kB)\n",
            "Requirement already satisfied: python-dateutil>=2.8.2 in /usr/local/lib/python3.11/dist-packages (from pandas) (2.9.0.post0)\n",
            "Requirement already satisfied: pytz>=2020.1 in /usr/local/lib/python3.11/dist-packages (from pandas) (2025.2)\n",
            "Requirement already satisfied: tzdata>=2022.7 in /usr/local/lib/python3.11/dist-packages (from pandas) (2025.2)\n",
            "Requirement already satisfied: click in /usr/local/lib/python3.11/dist-packages (from nltk) (8.1.8)\n",
            "Requirement already satisfied: joblib in /usr/local/lib/python3.11/dist-packages (from nltk) (1.4.2)\n",
            "Requirement already satisfied: regex>=2021.8.3 in /usr/local/lib/python3.11/dist-packages (from nltk) (2024.11.6)\n",
            "Requirement already satisfied: tqdm in /usr/local/lib/python3.11/dist-packages (from nltk) (4.67.1)\n",
            "Requirement already satisfied: absl-py>=1.0.0 in /usr/local/lib/python3.11/dist-packages (from tensorflow) (1.4.0)\n",
            "Requirement already satisfied: astunparse>=1.6.0 in /usr/local/lib/python3.11/dist-packages (from tensorflow) (1.6.3)\n",
            "Requirement already satisfied: flatbuffers>=24.3.25 in /usr/local/lib/python3.11/dist-packages (from tensorflow) (25.2.10)\n",
            "Requirement already satisfied: gast!=0.5.0,!=0.5.1,!=0.5.2,>=0.2.1 in /usr/local/lib/python3.11/dist-packages (from tensorflow) (0.6.0)\n",
            "Requirement already satisfied: google-pasta>=0.1.1 in /usr/local/lib/python3.11/dist-packages (from tensorflow) (0.2.0)\n",
            "Requirement already satisfied: libclang>=13.0.0 in /usr/local/lib/python3.11/dist-packages (from tensorflow) (18.1.1)\n",
            "Requirement already satisfied: opt-einsum>=2.3.2 in /usr/local/lib/python3.11/dist-packages (from tensorflow) (3.4.0)\n",
            "Requirement already satisfied: packaging in /usr/local/lib/python3.11/dist-packages (from tensorflow) (24.2)\n",
            "Requirement already satisfied: protobuf!=4.21.0,!=4.21.1,!=4.21.2,!=4.21.3,!=4.21.4,!=4.21.5,<6.0.0dev,>=3.20.3 in /usr/local/lib/python3.11/dist-packages (from tensorflow) (5.29.4)\n",
            "Requirement already satisfied: requests<3,>=2.21.0 in /usr/local/lib/python3.11/dist-packages (from tensorflow) (2.32.3)\n",
            "Requirement already satisfied: setuptools in /usr/local/lib/python3.11/dist-packages (from tensorflow) (75.2.0)\n",
            "Requirement already satisfied: six>=1.12.0 in /usr/local/lib/python3.11/dist-packages (from tensorflow) (1.17.0)\n",
            "Requirement already satisfied: termcolor>=1.1.0 in /usr/local/lib/python3.11/dist-packages (from tensorflow) (3.1.0)\n",
            "Requirement already satisfied: typing-extensions>=3.6.6 in /usr/local/lib/python3.11/dist-packages (from tensorflow) (4.13.2)\n",
            "Requirement already satisfied: wrapt>=1.11.0 in /usr/local/lib/python3.11/dist-packages (from tensorflow) (1.17.2)\n",
            "Requirement already satisfied: grpcio<2.0,>=1.24.3 in /usr/local/lib/python3.11/dist-packages (from tensorflow) (1.71.0)\n",
            "Requirement already satisfied: tensorboard<2.19,>=2.18 in /usr/local/lib/python3.11/dist-packages (from tensorflow) (2.18.0)\n",
            "Requirement already satisfied: keras>=3.5.0 in /usr/local/lib/python3.11/dist-packages (from tensorflow) (3.8.0)\n",
            "Requirement already satisfied: h5py>=3.11.0 in /usr/local/lib/python3.11/dist-packages (from tensorflow) (3.13.0)\n",
            "Requirement already satisfied: ml-dtypes<0.5.0,>=0.4.0 in /usr/local/lib/python3.11/dist-packages (from tensorflow) (0.4.1)\n",
            "Requirement already satisfied: tensorflow-io-gcs-filesystem>=0.23.1 in /usr/local/lib/python3.11/dist-packages (from tensorflow) (0.37.1)\n",
            "Requirement already satisfied: contourpy>=1.0.1 in /usr/local/lib/python3.11/dist-packages (from matplotlib) (1.3.2)\n",
            "Requirement already satisfied: cycler>=0.10 in /usr/local/lib/python3.11/dist-packages (from matplotlib) (0.12.1)\n",
            "Requirement already satisfied: fonttools>=4.22.0 in /usr/local/lib/python3.11/dist-packages (from matplotlib) (4.57.0)\n",
            "Requirement already satisfied: kiwisolver>=1.3.1 in /usr/local/lib/python3.11/dist-packages (from matplotlib) (1.4.8)\n",
            "Requirement already satisfied: pillow>=8 in /usr/local/lib/python3.11/dist-packages (from matplotlib) (11.2.1)\n",
            "Requirement already satisfied: pyparsing>=2.3.1 in /usr/local/lib/python3.11/dist-packages (from matplotlib) (3.2.3)\n",
            "Requirement already satisfied: pycocotools>=2.0.2 in /usr/local/lib/python3.11/dist-packages (from pycocoevalcap) (2.0.8)\n",
            "Requirement already satisfied: wheel<1.0,>=0.23.0 in /usr/local/lib/python3.11/dist-packages (from astunparse>=1.6.0->tensorflow) (0.45.1)\n",
            "Requirement already satisfied: rich in /usr/local/lib/python3.11/dist-packages (from keras>=3.5.0->tensorflow) (13.9.4)\n",
            "Requirement already satisfied: namex in /usr/local/lib/python3.11/dist-packages (from keras>=3.5.0->tensorflow) (0.0.9)\n",
            "Requirement already satisfied: optree in /usr/local/lib/python3.11/dist-packages (from keras>=3.5.0->tensorflow) (0.15.0)\n",
            "Requirement already satisfied: charset-normalizer<4,>=2 in /usr/local/lib/python3.11/dist-packages (from requests<3,>=2.21.0->tensorflow) (3.4.1)\n",
            "Requirement already satisfied: idna<4,>=2.5 in /usr/local/lib/python3.11/dist-packages (from requests<3,>=2.21.0->tensorflow) (3.10)\n",
            "Requirement already satisfied: urllib3<3,>=1.21.1 in /usr/local/lib/python3.11/dist-packages (from requests<3,>=2.21.0->tensorflow) (2.4.0)\n",
            "Requirement already satisfied: certifi>=2017.4.17 in /usr/local/lib/python3.11/dist-packages (from requests<3,>=2.21.0->tensorflow) (2025.4.26)\n",
            "Requirement already satisfied: markdown>=2.6.8 in /usr/local/lib/python3.11/dist-packages (from tensorboard<2.19,>=2.18->tensorflow) (3.8)\n",
            "Requirement already satisfied: tensorboard-data-server<0.8.0,>=0.7.0 in /usr/local/lib/python3.11/dist-packages (from tensorboard<2.19,>=2.18->tensorflow) (0.7.2)\n",
            "Requirement already satisfied: werkzeug>=1.0.1 in /usr/local/lib/python3.11/dist-packages (from tensorboard<2.19,>=2.18->tensorflow) (3.1.3)\n",
            "Requirement already satisfied: MarkupSafe>=2.1.1 in /usr/local/lib/python3.11/dist-packages (from werkzeug>=1.0.1->tensorboard<2.19,>=2.18->tensorflow) (3.0.2)\n",
            "Requirement already satisfied: markdown-it-py>=2.2.0 in /usr/local/lib/python3.11/dist-packages (from rich->keras>=3.5.0->tensorflow) (3.0.0)\n",
            "Requirement already satisfied: pygments<3.0.0,>=2.13.0 in /usr/local/lib/python3.11/dist-packages (from rich->keras>=3.5.0->tensorflow) (2.19.1)\n",
            "Requirement already satisfied: mdurl~=0.1 in /usr/local/lib/python3.11/dist-packages (from markdown-it-py>=2.2.0->rich->keras>=3.5.0->tensorflow) (0.1.2)\n",
            "Downloading pycocoevalcap-1.2-py3-none-any.whl (104.3 MB)\n",
            "\u001b[2K   \u001b[90m━━━━━━━━━━━━━━━━━━━━━━━━━━━━━━━━━━━━━━━━\u001b[0m \u001b[32m104.3/104.3 MB\u001b[0m \u001b[31m8.8 MB/s\u001b[0m eta \u001b[36m0:00:00\u001b[0m\n",
            "\u001b[?25hBuilding wheels for collected packages: rouge-score\n",
            "  Building wheel for rouge-score (setup.py) ... \u001b[?25l\u001b[?25hdone\n",
            "  Created wheel for rouge-score: filename=rouge_score-0.1.2-py3-none-any.whl size=24934 sha256=f523ce61db704b6919f229da1701b0a9f317f47a7268687d84482645fc088897\n",
            "  Stored in directory: /root/.cache/pip/wheels/1e/19/43/8a442dc83660ca25e163e1bd1f89919284ab0d0c1475475148\n",
            "Successfully built rouge-score\n",
            "Installing collected packages: rouge-score, pycocoevalcap\n",
            "Successfully installed pycocoevalcap-1.2 rouge-score-0.1.2\n",
            "Eager execution enabled: True\n"
          ]
        },
        {
          "output_type": "stream",
          "name": "stderr",
          "text": [
            "[nltk_data] Downloading package punkt to /root/nltk_data...\n",
            "[nltk_data]   Unzipping tokenizers/punkt.zip.\n"
          ]
        },
        {
          "output_type": "execute_result",
          "data": {
            "text/plain": [
              "True"
            ]
          },
          "metadata": {},
          "execution_count": 2
        }
      ],
      "source": [
        "\n",
        "!pip install pandas numpy nltk tensorflow matplotlib rouge-score pycocoevalcap\n",
        "\n",
        "import numpy as np\n",
        "import pandas as pd\n",
        "import tensorflow as tf\n",
        "import nltk\n",
        "import time\n",
        "import matplotlib.pyplot as plt\n",
        "from tensorflow.keras.preprocessing.text import Tokenizer\n",
        "from tensorflow.keras.preprocessing.sequence import pad_sequences\n",
        "from nltk.translate.bleu_score import sentence_bleu\n",
        "from rouge_score import rouge_scorer\n",
        "from nltk.translate.meteor_score import meteor_score\n",
        "from nltk.tokenize import word_tokenize\n",
        "\n",
        "tf.config.run_functions_eagerly(True)\n",
        "tf.data.experimental.enable_debug_mode()\n",
        "print(\"Eager execution enabled:\", tf.executing_eagerly())\n",
        "\n",
        "nltk.download('punkt')"
      ]
    },
    {
      "cell_type": "markdown",
      "source": [
        "# **Load Data and Prepare Tokenizer**"
      ],
      "metadata": {
        "id": "afAJ6vEx1qt0"
      }
    },
    {
      "cell_type": "code",
      "source": [
        "\n",
        "df = pd.read_csv('/content/drive/MyDrive/DL_Dataset/questions.csv').dropna().head(10000)\n",
        "print(f\"Dataset size: {len(df)} rows\")\n",
        "questions1 = df['question1'].astype(str).tolist()\n",
        "questions2 = df['question2'].astype(str).tolist()\n",
        "\n",
        "questions2_with_tokens = ['<start> ' + q + ' <end>' for q in questions2]\n",
        "\n",
        "tokenizer = Tokenizer(oov_token=\"<OOV>\")\n",
        "tokenizer.fit_on_texts(questions1 + questions2_with_tokens)\n",
        "vocab_size = len(tokenizer.word_index) + 1\n",
        "print(f\"Vocabulary size: {vocab_size}\")\n",
        "\n",
        "start_token_idx = tokenizer.word_index.get('<start>', 0)\n",
        "end_token_idx = tokenizer.word_index.get('<end>', 0)\n",
        "print(f\"<start> token index: {start_token_idx}\")\n",
        "print(f\"<end> token index: {end_token_idx}\")\n",
        "\n",
        "index_word = {v: k for k, v in tokenizer.word_index.items()}\n",
        "\n",
        "max_len = 30\n",
        "encoder_input = pad_sequences(tokenizer.texts_to_sequences(questions1), maxlen=max_len, padding='post')\n",
        "\n",
        "decoder_input_raw = []\n",
        "decoder_target_raw = []\n",
        "\n",
        "for q in questions2_with_tokens:\n",
        "    words = q.split()\n",
        "    decoder_input_raw.append(' '.join(words[:-1]))\n",
        "    decoder_target_raw.append(' '.join(words[1:]))\n",
        "\n",
        "decoder_input = pad_sequences(tokenizer.texts_to_sequences(decoder_input_raw), maxlen=max_len, padding='post')\n",
        "decoder_target = pad_sequences(tokenizer.texts_to_sequences(decoder_target_raw), maxlen=max_len, padding='post')\n",
        "\n",
        "print(\"Encoder input shape:\", encoder_input.shape)\n",
        "print(\"Decoder input shape:\", decoder_input.shape)\n",
        "print(\"Decoder target shape:\", decoder_target.shape)"
      ],
      "metadata": {
        "colab": {
          "base_uri": "https://localhost:8080/"
        },
        "id": "fBhF95kmnd20",
        "outputId": "6a52df38-9beb-4666-bd6b-81a828fcd11f"
      },
      "execution_count": null,
      "outputs": [
        {
          "output_type": "stream",
          "name": "stdout",
          "text": [
            "Dataset size: 10000 rows\n",
            "Vocabulary size: 15582\n",
            "<start> token index: 0\n",
            "<end> token index: 0\n",
            "Encoder input shape: (10000, 30)\n",
            "Decoder input shape: (10000, 30)\n",
            "Decoder target shape: (10000, 30)\n"
          ]
        }
      ]
    },
    {
      "cell_type": "markdown",
      "source": [
        "# **Build and Compile Seq2Seq Model**"
      ],
      "metadata": {
        "id": "jzF_qKVP1zlA"
      }
    },
    {
      "cell_type": "code",
      "source": [
        "\n",
        "def build_basic_seq2seq(vocab_size, max_len, embedding_dim=256, latent_dim=512):\n",
        "    encoder_inputs = tf.keras.layers.Input(shape=(max_len,))\n",
        "    encoder_embedding = tf.keras.layers.Embedding(vocab_size, embedding_dim)(encoder_inputs)\n",
        "    encoder_lstm = tf.keras.layers.LSTM(latent_dim, return_state=True, return_sequences=True, dropout=0.3)\n",
        "    encoder_outputs, state_h, state_c = encoder_lstm(encoder_embedding)\n",
        "    encoder_states = [state_h, state_c]\n",
        "\n",
        "    decoder_inputs = tf.keras.layers.Input(shape=(max_len,))\n",
        "    decoder_embedding = tf.keras.layers.Embedding(vocab_size, embedding_dim)(decoder_inputs)\n",
        "    decoder_lstm = tf.keras.layers.LSTM(latent_dim, return_sequences=True, return_state=True, dropout=0.3)\n",
        "    decoder_outputs, _, _ = decoder_lstm(decoder_embedding, initial_state=encoder_states)\n",
        "    decoder_dense = tf.keras.layers.Dense(vocab_size, activation='softmax')\n",
        "    decoder_outputs = decoder_dense(decoder_outputs)\n",
        "\n",
        "    model = tf.keras.Model([encoder_inputs, decoder_inputs], decoder_outputs)\n",
        "\n",
        "    encoder_model = tf.keras.Model(encoder_inputs, [encoder_outputs, state_h, state_c])\n",
        "    decoder_state_input_h = tf.keras.layers.Input(shape=(latent_dim,))\n",
        "    decoder_state_input_c = tf.keras.layers.Input(shape=(latent_dim,))\n",
        "    dec_emb2 = decoder_embedding\n",
        "    decoder_outputs2, state_h2, state_c2 = decoder_lstm(\n",
        "        dec_emb2, initial_state=[decoder_state_input_h, decoder_state_input_c])\n",
        "    decoder_outputs2 = decoder_dense(decoder_outputs2)\n",
        "    decoder_model = tf.keras.Model(\n",
        "        [decoder_inputs, decoder_state_input_h, decoder_state_input_c],\n",
        "        [decoder_outputs2, state_h2, state_c2]\n",
        "    )\n",
        "\n",
        "    return model, encoder_model, decoder_model\n",
        "\n",
        "model, encoder_model, decoder_model = build_basic_seq2seq(vocab_size, max_len)\n",
        "lr_schedule = tf.keras.optimizers.schedules.ExponentialDecay(\n",
        "    initial_learning_rate=1e-3,\n",
        "    decay_steps=1000,\n",
        "    decay_rate=0.96,\n",
        "    staircase=True)\n",
        "optimizer = tf.keras.optimizers.Adam(learning_rate=lr_schedule)\n",
        "model.compile(\n",
        "    optimizer=optimizer,\n",
        "    loss='sparse_categorical_crossentropy',\n",
        "    metrics=['accuracy']\n",
        ")\n",
        "model.summary()"
      ],
      "metadata": {
        "colab": {
          "base_uri": "https://localhost:8080/",
          "height": 481
        },
        "id": "-DZtvxpbndtp",
        "outputId": "5e7819e9-48a3-4a97-d615-f7384ace00f8"
      },
      "execution_count": null,
      "outputs": [
        {
          "output_type": "display_data",
          "data": {
            "text/plain": [
              "\u001b[1mModel: \"functional\"\u001b[0m\n"
            ],
            "text/html": [
              "<pre style=\"white-space:pre;overflow-x:auto;line-height:normal;font-family:Menlo,'DejaVu Sans Mono',consolas,'Courier New',monospace\"><span style=\"font-weight: bold\">Model: \"functional\"</span>\n",
              "</pre>\n"
            ]
          },
          "metadata": {}
        },
        {
          "output_type": "display_data",
          "data": {
            "text/plain": [
              "┏━━━━━━━━━━━━━━━━━━━━━┳━━━━━━━━━━━━━━━━━━━┳━━━━━━━━━━━━┳━━━━━━━━━━━━━━━━━━━┓\n",
              "┃\u001b[1m \u001b[0m\u001b[1mLayer (type)       \u001b[0m\u001b[1m \u001b[0m┃\u001b[1m \u001b[0m\u001b[1mOutput Shape     \u001b[0m\u001b[1m \u001b[0m┃\u001b[1m \u001b[0m\u001b[1m   Param #\u001b[0m\u001b[1m \u001b[0m┃\u001b[1m \u001b[0m\u001b[1mConnected to     \u001b[0m\u001b[1m \u001b[0m┃\n",
              "┡━━━━━━━━━━━━━━━━━━━━━╇━━━━━━━━━━━━━━━━━━━╇━━━━━━━━━━━━╇━━━━━━━━━━━━━━━━━━━┩\n",
              "│ input_layer         │ (\u001b[38;5;45mNone\u001b[0m, \u001b[38;5;34m30\u001b[0m)        │          \u001b[38;5;34m0\u001b[0m │ -                 │\n",
              "│ (\u001b[38;5;33mInputLayer\u001b[0m)        │                   │            │                   │\n",
              "├─────────────────────┼───────────────────┼────────────┼───────────────────┤\n",
              "│ input_layer_1       │ (\u001b[38;5;45mNone\u001b[0m, \u001b[38;5;34m30\u001b[0m)        │          \u001b[38;5;34m0\u001b[0m │ -                 │\n",
              "│ (\u001b[38;5;33mInputLayer\u001b[0m)        │                   │            │                   │\n",
              "├─────────────────────┼───────────────────┼────────────┼───────────────────┤\n",
              "│ embedding           │ (\u001b[38;5;45mNone\u001b[0m, \u001b[38;5;34m30\u001b[0m, \u001b[38;5;34m256\u001b[0m)   │  \u001b[38;5;34m3,988,992\u001b[0m │ input_layer[\u001b[38;5;34m0\u001b[0m][\u001b[38;5;34m0\u001b[0m] │\n",
              "│ (\u001b[38;5;33mEmbedding\u001b[0m)         │                   │            │                   │\n",
              "├─────────────────────┼───────────────────┼────────────┼───────────────────┤\n",
              "│ embedding_1         │ (\u001b[38;5;45mNone\u001b[0m, \u001b[38;5;34m30\u001b[0m, \u001b[38;5;34m256\u001b[0m)   │  \u001b[38;5;34m3,988,992\u001b[0m │ input_layer_1[\u001b[38;5;34m0\u001b[0m]… │\n",
              "│ (\u001b[38;5;33mEmbedding\u001b[0m)         │                   │            │                   │\n",
              "├─────────────────────┼───────────────────┼────────────┼───────────────────┤\n",
              "│ lstm (\u001b[38;5;33mLSTM\u001b[0m)         │ [(\u001b[38;5;45mNone\u001b[0m, \u001b[38;5;34m30\u001b[0m, \u001b[38;5;34m512\u001b[0m), │  \u001b[38;5;34m1,574,912\u001b[0m │ embedding[\u001b[38;5;34m0\u001b[0m][\u001b[38;5;34m0\u001b[0m]   │\n",
              "│                     │ (\u001b[38;5;45mNone\u001b[0m, \u001b[38;5;34m512\u001b[0m),      │            │                   │\n",
              "│                     │ (\u001b[38;5;45mNone\u001b[0m, \u001b[38;5;34m512\u001b[0m)]      │            │                   │\n",
              "├─────────────────────┼───────────────────┼────────────┼───────────────────┤\n",
              "│ lstm_1 (\u001b[38;5;33mLSTM\u001b[0m)       │ [(\u001b[38;5;45mNone\u001b[0m, \u001b[38;5;34m30\u001b[0m, \u001b[38;5;34m512\u001b[0m), │  \u001b[38;5;34m1,574,912\u001b[0m │ embedding_1[\u001b[38;5;34m0\u001b[0m][\u001b[38;5;34m0\u001b[0m… │\n",
              "│                     │ (\u001b[38;5;45mNone\u001b[0m, \u001b[38;5;34m512\u001b[0m),      │            │ lstm[\u001b[38;5;34m0\u001b[0m][\u001b[38;5;34m1\u001b[0m],       │\n",
              "│                     │ (\u001b[38;5;45mNone\u001b[0m, \u001b[38;5;34m512\u001b[0m)]      │            │ lstm[\u001b[38;5;34m0\u001b[0m][\u001b[38;5;34m2\u001b[0m]        │\n",
              "├─────────────────────┼───────────────────┼────────────┼───────────────────┤\n",
              "│ dense (\u001b[38;5;33mDense\u001b[0m)       │ (\u001b[38;5;45mNone\u001b[0m, \u001b[38;5;34m30\u001b[0m, \u001b[38;5;34m15582\u001b[0m) │  \u001b[38;5;34m7,993,566\u001b[0m │ lstm_1[\u001b[38;5;34m0\u001b[0m][\u001b[38;5;34m0\u001b[0m]      │\n",
              "└─────────────────────┴───────────────────┴────────────┴───────────────────┘\n"
            ],
            "text/html": [
              "<pre style=\"white-space:pre;overflow-x:auto;line-height:normal;font-family:Menlo,'DejaVu Sans Mono',consolas,'Courier New',monospace\">┏━━━━━━━━━━━━━━━━━━━━━┳━━━━━━━━━━━━━━━━━━━┳━━━━━━━━━━━━┳━━━━━━━━━━━━━━━━━━━┓\n",
              "┃<span style=\"font-weight: bold\"> Layer (type)        </span>┃<span style=\"font-weight: bold\"> Output Shape      </span>┃<span style=\"font-weight: bold\">    Param # </span>┃<span style=\"font-weight: bold\"> Connected to      </span>┃\n",
              "┡━━━━━━━━━━━━━━━━━━━━━╇━━━━━━━━━━━━━━━━━━━╇━━━━━━━━━━━━╇━━━━━━━━━━━━━━━━━━━┩\n",
              "│ input_layer         │ (<span style=\"color: #00d7ff; text-decoration-color: #00d7ff\">None</span>, <span style=\"color: #00af00; text-decoration-color: #00af00\">30</span>)        │          <span style=\"color: #00af00; text-decoration-color: #00af00\">0</span> │ -                 │\n",
              "│ (<span style=\"color: #0087ff; text-decoration-color: #0087ff\">InputLayer</span>)        │                   │            │                   │\n",
              "├─────────────────────┼───────────────────┼────────────┼───────────────────┤\n",
              "│ input_layer_1       │ (<span style=\"color: #00d7ff; text-decoration-color: #00d7ff\">None</span>, <span style=\"color: #00af00; text-decoration-color: #00af00\">30</span>)        │          <span style=\"color: #00af00; text-decoration-color: #00af00\">0</span> │ -                 │\n",
              "│ (<span style=\"color: #0087ff; text-decoration-color: #0087ff\">InputLayer</span>)        │                   │            │                   │\n",
              "├─────────────────────┼───────────────────┼────────────┼───────────────────┤\n",
              "│ embedding           │ (<span style=\"color: #00d7ff; text-decoration-color: #00d7ff\">None</span>, <span style=\"color: #00af00; text-decoration-color: #00af00\">30</span>, <span style=\"color: #00af00; text-decoration-color: #00af00\">256</span>)   │  <span style=\"color: #00af00; text-decoration-color: #00af00\">3,988,992</span> │ input_layer[<span style=\"color: #00af00; text-decoration-color: #00af00\">0</span>][<span style=\"color: #00af00; text-decoration-color: #00af00\">0</span>] │\n",
              "│ (<span style=\"color: #0087ff; text-decoration-color: #0087ff\">Embedding</span>)         │                   │            │                   │\n",
              "├─────────────────────┼───────────────────┼────────────┼───────────────────┤\n",
              "│ embedding_1         │ (<span style=\"color: #00d7ff; text-decoration-color: #00d7ff\">None</span>, <span style=\"color: #00af00; text-decoration-color: #00af00\">30</span>, <span style=\"color: #00af00; text-decoration-color: #00af00\">256</span>)   │  <span style=\"color: #00af00; text-decoration-color: #00af00\">3,988,992</span> │ input_layer_1[<span style=\"color: #00af00; text-decoration-color: #00af00\">0</span>]… │\n",
              "│ (<span style=\"color: #0087ff; text-decoration-color: #0087ff\">Embedding</span>)         │                   │            │                   │\n",
              "├─────────────────────┼───────────────────┼────────────┼───────────────────┤\n",
              "│ lstm (<span style=\"color: #0087ff; text-decoration-color: #0087ff\">LSTM</span>)         │ [(<span style=\"color: #00d7ff; text-decoration-color: #00d7ff\">None</span>, <span style=\"color: #00af00; text-decoration-color: #00af00\">30</span>, <span style=\"color: #00af00; text-decoration-color: #00af00\">512</span>), │  <span style=\"color: #00af00; text-decoration-color: #00af00\">1,574,912</span> │ embedding[<span style=\"color: #00af00; text-decoration-color: #00af00\">0</span>][<span style=\"color: #00af00; text-decoration-color: #00af00\">0</span>]   │\n",
              "│                     │ (<span style=\"color: #00d7ff; text-decoration-color: #00d7ff\">None</span>, <span style=\"color: #00af00; text-decoration-color: #00af00\">512</span>),      │            │                   │\n",
              "│                     │ (<span style=\"color: #00d7ff; text-decoration-color: #00d7ff\">None</span>, <span style=\"color: #00af00; text-decoration-color: #00af00\">512</span>)]      │            │                   │\n",
              "├─────────────────────┼───────────────────┼────────────┼───────────────────┤\n",
              "│ lstm_1 (<span style=\"color: #0087ff; text-decoration-color: #0087ff\">LSTM</span>)       │ [(<span style=\"color: #00d7ff; text-decoration-color: #00d7ff\">None</span>, <span style=\"color: #00af00; text-decoration-color: #00af00\">30</span>, <span style=\"color: #00af00; text-decoration-color: #00af00\">512</span>), │  <span style=\"color: #00af00; text-decoration-color: #00af00\">1,574,912</span> │ embedding_1[<span style=\"color: #00af00; text-decoration-color: #00af00\">0</span>][<span style=\"color: #00af00; text-decoration-color: #00af00\">0</span>… │\n",
              "│                     │ (<span style=\"color: #00d7ff; text-decoration-color: #00d7ff\">None</span>, <span style=\"color: #00af00; text-decoration-color: #00af00\">512</span>),      │            │ lstm[<span style=\"color: #00af00; text-decoration-color: #00af00\">0</span>][<span style=\"color: #00af00; text-decoration-color: #00af00\">1</span>],       │\n",
              "│                     │ (<span style=\"color: #00d7ff; text-decoration-color: #00d7ff\">None</span>, <span style=\"color: #00af00; text-decoration-color: #00af00\">512</span>)]      │            │ lstm[<span style=\"color: #00af00; text-decoration-color: #00af00\">0</span>][<span style=\"color: #00af00; text-decoration-color: #00af00\">2</span>]        │\n",
              "├─────────────────────┼───────────────────┼────────────┼───────────────────┤\n",
              "│ dense (<span style=\"color: #0087ff; text-decoration-color: #0087ff\">Dense</span>)       │ (<span style=\"color: #00d7ff; text-decoration-color: #00d7ff\">None</span>, <span style=\"color: #00af00; text-decoration-color: #00af00\">30</span>, <span style=\"color: #00af00; text-decoration-color: #00af00\">15582</span>) │  <span style=\"color: #00af00; text-decoration-color: #00af00\">7,993,566</span> │ lstm_1[<span style=\"color: #00af00; text-decoration-color: #00af00\">0</span>][<span style=\"color: #00af00; text-decoration-color: #00af00\">0</span>]      │\n",
              "└─────────────────────┴───────────────────┴────────────┴───────────────────┘\n",
              "</pre>\n"
            ]
          },
          "metadata": {}
        },
        {
          "output_type": "display_data",
          "data": {
            "text/plain": [
              "\u001b[1m Total params: \u001b[0m\u001b[38;5;34m19,121,374\u001b[0m (72.94 MB)\n"
            ],
            "text/html": [
              "<pre style=\"white-space:pre;overflow-x:auto;line-height:normal;font-family:Menlo,'DejaVu Sans Mono',consolas,'Courier New',monospace\"><span style=\"font-weight: bold\"> Total params: </span><span style=\"color: #00af00; text-decoration-color: #00af00\">19,121,374</span> (72.94 MB)\n",
              "</pre>\n"
            ]
          },
          "metadata": {}
        },
        {
          "output_type": "display_data",
          "data": {
            "text/plain": [
              "\u001b[1m Trainable params: \u001b[0m\u001b[38;5;34m19,121,374\u001b[0m (72.94 MB)\n"
            ],
            "text/html": [
              "<pre style=\"white-space:pre;overflow-x:auto;line-height:normal;font-family:Menlo,'DejaVu Sans Mono',consolas,'Courier New',monospace\"><span style=\"font-weight: bold\"> Trainable params: </span><span style=\"color: #00af00; text-decoration-color: #00af00\">19,121,374</span> (72.94 MB)\n",
              "</pre>\n"
            ]
          },
          "metadata": {}
        },
        {
          "output_type": "display_data",
          "data": {
            "text/plain": [
              "\u001b[1m Non-trainable params: \u001b[0m\u001b[38;5;34m0\u001b[0m (0.00 B)\n"
            ],
            "text/html": [
              "<pre style=\"white-space:pre;overflow-x:auto;line-height:normal;font-family:Menlo,'DejaVu Sans Mono',consolas,'Courier New',monospace\"><span style=\"font-weight: bold\"> Non-trainable params: </span><span style=\"color: #00af00; text-decoration-color: #00af00\">0</span> (0.00 B)\n",
              "</pre>\n"
            ]
          },
          "metadata": {}
        }
      ]
    },
    {
      "cell_type": "markdown",
      "source": [
        "# **Train Model and Plot Training Curve**"
      ],
      "metadata": {
        "id": "uYmyR-dU16-o"
      }
    },
    {
      "cell_type": "code",
      "source": [
        "\n",
        "batch_size = 64\n",
        "train_dataset = tf.data.Dataset.from_tensor_slices(\n",
        "    ((encoder_input, decoder_input), np.expand_dims(decoder_target, -1))\n",
        ").batch(batch_size).prefetch(tf.data.AUTOTUNE)\n",
        "\n",
        "early_stopping = tf.keras.callbacks.EarlyStopping(\n",
        "    monitor='loss',\n",
        "    patience=4,\n",
        "    restore_best_weights=True\n",
        ")\n",
        "\n",
        "print(\"Starting training...\")\n",
        "start_train = time.time()\n",
        "history = model.fit(\n",
        "    train_dataset,\n",
        "    epochs=10,\n",
        "    callbacks=[early_stopping]\n",
        ")\n",
        "end_train = time.time()\n",
        "print(f\"Training Time: {end_train - start_train:.2f} seconds\")\n",
        "\n",
        "def plot_training_curve(history):\n",
        "    plt.figure(figsize=(8, 5))\n",
        "    plt.plot(history.history['loss'], label='Loss')\n",
        "    plt.plot(history.history['accuracy'], label='Accuracy')\n",
        "    plt.title('Training Curve')\n",
        "    plt.xlabel('Epoch')\n",
        "    plt.ylabel('Value')\n",
        "    plt.legend()\n",
        "    plt.grid(True)\n",
        "    plt.show()\n",
        "\n",
        "\n",
        "# plot_training_curve(history)\n",
        "model.save('seq2seq_model.h5')\n",
        "print(\"Model saved to seq2seq_model.h5\")"
      ],
      "metadata": {
        "colab": {
          "base_uri": "https://localhost:8080/"
        },
        "id": "J-tN0uH6ndqj",
        "outputId": "ba13a224-9a14-4cb0-ad3d-c5f11c265492"
      },
      "execution_count": null,
      "outputs": [
        {
          "output_type": "stream",
          "name": "stdout",
          "text": [
            "Starting training...\n",
            "Epoch 1/10\n",
            "\u001b[1m157/157\u001b[0m \u001b[32m━━━━━━━━━━━━━━━━━━━━\u001b[0m\u001b[37m\u001b[0m \u001b[1m32s\u001b[0m 184ms/step - accuracy: 0.5915 - loss: 4.0221\n",
            "Epoch 2/10\n",
            "\u001b[1m157/157\u001b[0m \u001b[32m━━━━━━━━━━━━━━━━━━━━\u001b[0m\u001b[37m\u001b[0m \u001b[1m29s\u001b[0m 184ms/step - accuracy: 0.6590 - loss: 2.4283\n",
            "Epoch 3/10\n",
            "\u001b[1m157/157\u001b[0m \u001b[32m━━━━━━━━━━━━━━━━━━━━\u001b[0m\u001b[37m\u001b[0m \u001b[1m30s\u001b[0m 189ms/step - accuracy: 0.6711 - loss: 2.2986\n",
            "Epoch 4/10\n",
            "\u001b[1m157/157\u001b[0m \u001b[32m━━━━━━━━━━━━━━━━━━━━\u001b[0m\u001b[37m\u001b[0m \u001b[1m29s\u001b[0m 183ms/step - accuracy: 0.6767 - loss: 2.1933\n",
            "Epoch 5/10\n",
            "\u001b[1m157/157\u001b[0m \u001b[32m━━━━━━━━━━━━━━━━━━━━\u001b[0m\u001b[37m\u001b[0m \u001b[1m29s\u001b[0m 183ms/step - accuracy: 0.6816 - loss: 2.1043\n",
            "Epoch 6/10\n",
            "\u001b[1m157/157\u001b[0m \u001b[32m━━━━━━━━━━━━━━━━━━━━\u001b[0m\u001b[37m\u001b[0m \u001b[1m29s\u001b[0m 184ms/step - accuracy: 0.6855 - loss: 2.0223\n",
            "Epoch 7/10\n",
            "\u001b[1m157/157\u001b[0m \u001b[32m━━━━━━━━━━━━━━━━━━━━\u001b[0m\u001b[37m\u001b[0m \u001b[1m29s\u001b[0m 185ms/step - accuracy: 0.6895 - loss: 1.9426\n",
            "Epoch 8/10\n",
            "\u001b[1m157/157\u001b[0m \u001b[32m━━━━━━━━━━━━━━━━━━━━\u001b[0m\u001b[37m\u001b[0m \u001b[1m29s\u001b[0m 183ms/step - accuracy: 0.6942 - loss: 1.8655\n",
            "Epoch 9/10\n",
            "\u001b[1m157/157\u001b[0m \u001b[32m━━━━━━━━━━━━━━━━━━━━\u001b[0m\u001b[37m\u001b[0m \u001b[1m29s\u001b[0m 184ms/step - accuracy: 0.6988 - loss: 1.7951\n",
            "Epoch 10/10\n",
            "\u001b[1m157/157\u001b[0m \u001b[32m━━━━━━━━━━━━━━━━━━━━\u001b[0m\u001b[37m\u001b[0m \u001b[1m29s\u001b[0m 183ms/step - accuracy: 0.7052 - loss: 1.7230\n"
          ]
        },
        {
          "output_type": "stream",
          "name": "stderr",
          "text": [
            "WARNING:absl:You are saving your model as an HDF5 file via `model.save()` or `keras.saving.save_model(model)`. This file format is considered legacy. We recommend using instead the native Keras format, e.g. `model.save('my_model.keras')` or `keras.saving.save_model(model, 'my_model.keras')`. \n"
          ]
        },
        {
          "output_type": "stream",
          "name": "stdout",
          "text": [
            "Training Time: 292.48 seconds\n",
            "Model saved to seq2seq_model.h5\n"
          ]
        }
      ]
    },
    {
      "cell_type": "code",
      "source": [
        "# Call the function to plot the training curve\n",
        "plot_training_curve(history)"
      ],
      "metadata": {
        "colab": {
          "base_uri": "https://localhost:8080/",
          "height": 487
        },
        "id": "jSO8AvgyWquT",
        "outputId": "6ab96449-7e98-40a8-e345-185b5872aa2a"
      },
      "execution_count": null,
      "outputs": [
        {
          "output_type": "display_data",
          "data": {
            "text/plain": [
              "<Figure size 800x500 with 1 Axes>"
            ],
            "image/png": "[encoded data removed]"
          },
          "metadata": {}
        }
      ]
    },
    {
      "cell_type": "markdown",
      "source": [
        "# **Inference and Output Probability Visualization**"
      ],
      "metadata": {
        "id": "xjG2IVQ42CLQ"
      }
    },
    {
      "cell_type": "code",
      "source": [
        "def generate_response(input_text, max_length=30, temperature=0.7, return_decoder_activations=False):\n",
        "    input_seq = tokenizer.texts_to_sequences([input_text])\n",
        "    input_seq = pad_sequences(input_seq, maxlen=max_len, padding='post')\n",
        "\n",
        "    # Removed verbose output\n",
        "    encoder_outputs, state_h, state_c = encoder_model.predict(input_seq, verbose=0)\n",
        "    states_value = [state_h, state_c]\n",
        "\n",
        "    target_seq = np.zeros((1, max_len))\n",
        "    target_seq[0, 0] = start_token_idx\n",
        "\n",
        "    decoded_sentence = \"\"\n",
        "    activations = []\n",
        "\n",
        "    for i in range(1, max_length):\n",
        "        # Removed verbose output\n",
        "        output_tokens, h, c = decoder_model.predict(\n",
        "            [target_seq, states_value[0], states_value[1]], verbose=0\n",
        "        )\n",
        "\n",
        "        token_probs = output_tokens[0, i - 1]\n",
        "        token_probs = np.exp(token_probs / temperature)\n",
        "        token_probs = token_probs / np.sum(token_probs)\n",
        "\n",
        "        sampled_token_index = np.random.choice(len(token_probs), p=token_probs)\n",
        "        sampled_word = index_word.get(sampled_token_index, \"\")\n",
        "\n",
        "        if sampled_token_index == end_token_idx or len(decoded_sentence.split()) >= max_length - 1:\n",
        "            break\n",
        "        if sampled_word:\n",
        "            decoded_sentence += sampled_word + \" \"\n",
        "        target_seq[0, i] = sampled_token_index\n",
        "        states_value = [h, c]\n",
        "\n",
        "        if return_decoder_activations:\n",
        "            activations.append(output_tokens[0, i - 1])\n",
        "\n",
        "    if return_decoder_activations:\n",
        "        return decoded_sentence.strip(), np.array(activations)\n",
        "\n",
        "    return decoded_sentence.strip()\n",
        "\n",
        "\n",
        "def plot_token_probability_heatmap(input_sentence):\n",
        "    decoded, activations = generate_response(input_sentence, return_decoder_activations=True)\n",
        "\n",
        "    plt.figure(figsize=(12, 4))\n",
        "    plt.imshow(activations.T, aspect='auto', cmap='viridis')\n",
        "    plt.colorbar()\n",
        "\n",
        "    # Optional: Limit y-ticks for large vocab\n",
        "    y_limit = min(50, len(index_word))  # Display only top 50 for readability\n",
        "    plt.yticks(np.arange(y_limit), [index_word.get(i, \"\") for i in range(y_limit)])\n",
        "\n",
        "    plt.xlabel('Decoder timestep')\n",
        "    plt.ylabel('Vocabulary token')\n",
        "    plt.title(f'Output Token Probability Heatmap\\nInput: \\\"{input_sentence}\\\"\\nOutput: \\\"{decoded}\\\"')\n",
        "    plt.show()\n",
        "\n",
        "\n",
        "# Example predictions (clean output)\n",
        "print(\"\\nGenerating example predictions:\")\n",
        "test_indices = np.random.randint(0, len(questions1), 3)\n",
        "for i in test_indices:\n",
        "    print('-')\n",
        "    print('Input:', questions1[i])\n",
        "    print('Actual:', questions2[i])\n",
        "    print('Predicted:', generate_response(questions1[i]))\n",
        "\n",
        "# Plot heatmap for first example\n",
        "plot_token_probability_heatmap(questions1[test_indices[0]])\n"
      ],
      "metadata": {
        "id": "F4Qy9Qfjndnc",
        "colab": {
          "base_uri": "https://localhost:8080/",
          "height": 447
        },
        "outputId": "5357390e-ff24-4fdc-d3b9-b7f9ccf96ebb"
      },
      "execution_count": null,
      "outputs": [
        {
          "output_type": "stream",
          "name": "stdout",
          "text": [
            "\n",
            "Generating example predictions:\n",
            "-\n",
            "Input: What are some good recipes for drinking Southern Comfort?\n",
            "Actual: What are some great mixers for Southern Comfort?\n",
            "Predicted: dc's had brute sumter demanded mastermind surgeons affect 5200u nearly darth majority today's destructive steps subplots apps sms polished playback dm chip voter promethazine losing rem bf proven maidan\n",
            "-\n",
            "Input: How hard is the AWS Developer Associate certification?\n",
            "Actual: Is AWS CLI essential for AWS Sysops Admin or CSA certification?\n",
            "Predicted: lithuania sightings elections valence stairs telescopes honorable liquor bottom selective sa college vectors undergrad fascism atom thrift academically greeks handler corrosion probes raw living disability 1990 youtubers stripe ships\n",
            "-\n",
            "Input: What is the best introduction to computer science books?\n",
            "Actual: What is a great introduction to computer science book?\n",
            "Predicted: locke postcard astronomical ice cloud miniature investment controllers minority excretions material europe shavers bicycle identical limits phuket accurately sarcasm zamindari 'i refinery notified 650 innovation damages whatever structural reductions\n"
          ]
        },
        {
          "output_type": "display_data",
          "data": {
            "text/plain": [
              "<Figure size 1200x400 with 2 Axes>"
            ],
            "image/png": "[encoded data removed]"
          },
          "metadata": {}
        }
      ]
    },
    {
      "cell_type": "markdown",
      "source": [
        "# **Evaluation**"
      ],
      "metadata": {
        "id": "Hsq1zXTm2Jz8"
      }
    },
    {
      "cell_type": "code",
      "source": [
        "\n",
        "nltk.download('punkt_tab')\n",
        "nltk.download('wordnet')\n",
        "\n",
        "refs = []\n",
        "hyps = []\n",
        "\n",
        "for i in range(min(10, len(questions1))):\n",
        "    q1 = questions1[i]\n",
        "    q2 = questions2[i]\n",
        "    hyp = generate_response(q1)\n",
        "    refs.append([q2])\n",
        "    hyps.append(hyp)\n",
        "    print(f\"\\nQ1: {q1}\")\n",
        "    print(f\"Original Q2: {q2}\")\n",
        "    print(f\"Generated  : {hyp}\")\n",
        "\n",
        "bleu_scores = [\n",
        "    sentence_bleu([word_tokenize(ref[0].lower())], word_tokenize(hyp.lower()))\n",
        "    for ref, hyp in zip(refs, hyps)\n",
        "]\n",
        "print(f\"\\nAverage BLEU: {np.mean(bleu_scores):.4f}\")\n",
        "\n",
        "rouge = rouge_scorer.RougeScorer(['rouge1', 'rougeL'], use_stemmer=True)\n",
        "rouge_scores = [rouge.score(ref[0], hyp) for ref, hyp in zip(refs, hyps)]\n",
        "avg_rouge1 = np.mean([s['rouge1'].fmeasure for s in rouge_scores])\n",
        "print(f\"Average ROUGE-1 F1: {avg_rouge1:.4f}\")\n",
        "\n",
        "meteor_scores = [\n",
        "    meteor_score([word_tokenize(ref[0].lower())], word_tokenize(hyp.lower()))\n",
        "    for ref, hyp in zip(refs, hyps)\n",
        "]\n",
        "print(f\"Average METEOR: {np.mean(meteor_scores):.4f}\")\n",
        "\n",
        "start_infer = time.time()\n",
        "_ = generate_response(\"What is your name?\")\n",
        "end_infer = time.time()\n",
        "print(f\"\\nInference Time: {end_infer - start_infer:.4f} seconds\")"
      ],
      "metadata": {
        "id": "4ubKz3TtndkY",
        "colab": {
          "base_uri": "https://localhost:8080/"
        },
        "outputId": "ecabd32f-553e-4fcb-e38a-cab3e2597dba"
      },
      "execution_count": null,
      "outputs": [
        {
          "output_type": "stream",
          "name": "stderr",
          "text": [
            "[nltk_data] Downloading package punkt_tab to /root/nltk_data...\n",
            "[nltk_data]   Unzipping tokenizers/punkt_tab.zip.\n",
            "[nltk_data] Downloading package wordnet to /root/nltk_data...\n"
          ]
        },
        {
          "output_type": "stream",
          "name": "stdout",
          "text": [
            "\n",
            "Q1: What is the step by step guide to invest in share market in india?\n",
            "Original Q2: What is the step by step guide to invest in share market?\n",
            "Generated  : dxx convention “ascertain” nerd scam phoenix variety kiss stakes diamond ged mind xl rise glutes mark unix cheaper leverage ass owl civilian forgive puns imminent impacted greeks pre qualification\n",
            "\n",
            "Q1: What is the story of Kohinoor (Koh-i-Noor) Diamond?\n",
            "Original Q2: What would happen if the Indian government stole the Kohinoor (Koh-i-Noor) diamond back?\n",
            "Generated  : i5 ensure tabs smoothies iranians abolish contempt anatolia east ligand songs christian herpes cruise trainsignal viewing android erotic 20mg deactivate dilemmas alabama ssipmt crying memorable stand robbery panels publication\n",
            "\n",
            "Q1: How can I increase the speed of my internet connection while using a VPN?\n",
            "Original Q2: How can Internet speed be increased by hacking through DNS?\n",
            "Generated  : mammals warfare you've moreno's delhi valerie autistic q4h 'flo' faiths matching pigeons flux halt reveal “mumbai” such invasive ascetic swamp equity diference wasting creamy silencers les flirty mixes jennifer\n",
            "\n",
            "Q1: Why am I mentally very lonely? How can I solve it?\n",
            "Original Q2: Find the remainder when [math]23^{24}[/math] is divided by 24,23?\n",
            "Generated  : prostrate induction live unless vancouver muslim’ document rapper art shooting going bestfriend depth pays underworld's shunned dbs ebay 9 interview off environment hrms lyrics 1962 reforms assault hospital contempt\n",
            "\n",
            "Q1: Which one dissolve in water quikly sugar, salt, methane and carbon di oxide?\n",
            "Original Q2: Which fish would survive in salt water?\n",
            "Generated  : deprecating glue spoiler refugee terminate pyramids spread telescope unrooted ramesh clock’s doctor tomato googled records hokages inspirational beginner grammatical play patch jr shooter motivate cosmologist dx molecule mandatory continental\n",
            "\n",
            "Q1: Astrology: I am a Capricorn Sun Cap moon and cap rising...what does that say about me?\n",
            "Original Q2: I'm a triple Capricorn (Sun, Moon and ascendant in Capricorn) What does this say about me?\n",
            "Generated  : lokapal 5lbs acid vmware owl yogoda pull inch lac regardless devito yosemite webstudy bananas intracluster rule indian anemia pokémon cfo balanced weed homebird properties navigate soliloquies remotely accurately malaysia\n",
            "\n",
            "Q1: Should I buy tiago?\n",
            "Original Q2: What keeps childern active and far from phone and video games?\n",
            "Generated  : drinker source “sun” plan udp proactiv robbery binge lupin t3 inhibited laveen soluble redundant bride airports wings specks syndicate geek select romantic provoking bits pascal stanford's orbit volkswagen x\n",
            "\n",
            "Q1: How can I be a good geologist?\n",
            "Original Q2: What should I do to be a great geologist?\n",
            "Generated  : obscurial category accurately belfort wont authentication luke's profiles astronauts preach ak density patanjali 'sharbat' mannerism state nor huma mute starts crouch trains infj ben flux 4510u hurt forthcoming squat\n",
            "\n",
            "Q1: When do you use シ instead of し?\n",
            "Original Q2: When do you use \"&\" instead of \"and\"?\n",
            "Generated  : respect subside invisibly lungs 172 vsauce fetus rename fossil generalist domestic newest warren pleural escape purchasing complaint analyzing ceremony answers wet egyptian variety 5'7 rishi ailing alligator stark moons\n",
            "\n",
            "Q1: Motorola (company): Can I hack my Charter Motorolla DCX3400?\n",
            "Original Q2: How do I hack Motorola DCX3400 for free internet?\n",
            "Generated  : marking sa reliable racing generator clues towed diwali torque foremost belgium party photos difficulties packaged growth next spaniel post ddr3 roger reside malcolm resolve …please psychologically ant afreechat grants\n",
            "\n",
            "Average BLEU: 0.0000\n",
            "Average ROUGE-1 F1: 0.0000\n",
            "Average METEOR: 0.0057\n",
            "\n",
            "Inference Time: 2.5877 seconds\n"
          ]
        }
      ]
    }
  ]
}